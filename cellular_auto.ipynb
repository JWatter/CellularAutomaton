{
 "cells": [
  {
   "cell_type": "code",
   "execution_count": 1,
   "metadata": {},
   "outputs": [],
   "source": [
    "import turtle\n",
    "import numpy as np\n",
    "import math\n",
    "import matplotlib.pyplot as plt"
   ]
  },
  {
   "cell_type": "code",
   "execution_count": 2,
   "metadata": {},
   "outputs": [],
   "source": [
    "def draw_grid(n, x, y):\n",
    "    turtle.speed(9)\n",
    "    turtle.screensize(400, 400)\n",
    "    turtle.penup()\n",
    "    turtle.pencolor('black')\n",
    "    turtle.pensize(1)\n",
    "    for i in range(51):\n",
    "        turtle.goto(x, y + n * i)\n",
    "        turtle.pendown()\n",
    "        turtle.forward(50 * n)  \n",
    "        turtle.penup()\n",
    "    \n",
    "    turtle.left(90)\n",
    "    for i in range(51):\n",
    "        turtle.goto(x + n * i, y)\n",
    "        turtle.pendown()\n",
    "        turtle.forward(50 * n)\n",
    "        turtle.penup()\n",
    "    turtle.hideturtle()"
   ]
  },
  {
   "cell_type": "code",
   "execution_count": 3,
   "metadata": {},
   "outputs": [],
   "source": [
    "# pedestrian: red cell\n",
    "def set_p(n, x, y, image):\n",
    "    image[x, y] = 1\n",
    "    turtle.goto(-250+x*n-n+1, 250-y*n+1)\n",
    "    turtle.fillcolor('red')\n",
    "    turtle.begin_fill()\n",
    "    for _ in range(4):       \n",
    "        turtle.left(90)\n",
    "        turtle.backward(n-2)\n",
    "    turtle.end_fill()\n",
    "    turtle.hideturtle()\n",
    "    return [x, y]"
   ]
  },
  {
   "cell_type": "code",
   "execution_count": 4,
   "metadata": {},
   "outputs": [],
   "source": [
    "# target: yellow cell\n",
    "def set_t(n, x, y, image):\n",
    "    image[x, y] = 2\n",
    "    turtle.goto(-250+x*n-n+1, 250-y*n+1)\n",
    "    turtle.fillcolor('yellow')\n",
    "    turtle.begin_fill()\n",
    "    for _ in range(4):       \n",
    "        turtle.left(90)\n",
    "        turtle.backward(n-2)\n",
    "    turtle.end_fill()\n",
    "    turtle.hideturtle()\n",
    "    return [x, y]"
   ]
  },
  {
   "cell_type": "code",
   "execution_count": 5,
   "metadata": {},
   "outputs": [],
   "source": [
    "# obstacle: violet cell\n",
    "def set_o(n, x, y, image):\n",
    "    image[x, y] = 3\n",
    "    turtle.goto(-250+x*n-n+1, 250-y*n+1)\n",
    "    turtle.fillcolor('violet')\n",
    "    turtle.begin_fill()\n",
    "    for _ in range(4):       \n",
    "        turtle.left(90)\n",
    "        turtle.backward(n-2)\n",
    "    turtle.end_fill()\n",
    "    turtle.hideturtle()\n",
    "    return image"
   ]
  },
  {
   "cell_type": "code",
   "execution_count": 6,
   "metadata": {},
   "outputs": [],
   "source": [
    "def dist(A, B):\n",
    "    return math.sqrt((A[0]-B[0])**2 + (A[1] - B[1])**2)"
   ]
  },
  {
   "cell_type": "code",
   "execution_count": 7,
   "metadata": {},
   "outputs": [],
   "source": [
    "# find min distance to target\n",
    "def get_dist(locality, target, image):\n",
    "    array = np.zeros((len(locality), 1))\n",
    "    for idx, i in enumerate(locality):\n",
    "        x = i[0]\n",
    "        y = i[1]\n",
    "        if image[x, y] == 0:\n",
    "            array[idx] = dist([x, y], target)\n",
    "        else:\n",
    "            array[idx] = 100000\n",
    "    return array"
   ]
  },
  {
   "cell_type": "code",
   "execution_count": 8,
   "metadata": {},
   "outputs": [],
   "source": [
    "# get index\n",
    "def get_min_idx(array):\n",
    "    min = array[0]\n",
    "    idx = 0\n",
    "    for i in range(len(array)):\n",
    "        if array[i] < min:\n",
    "            min = array[i]\n",
    "            idx = i\n",
    "    return idx"
   ]
  },
  {
   "cell_type": "code",
   "execution_count": 9,
   "metadata": {},
   "outputs": [],
   "source": [
    "def next_locality(pedestrian, target, image):\n",
    "    x = pedestrian[0]\n",
    "    y = pedestrian[1]\n",
    "    locality = [[x-1, y-1], [x, y-1], [x+1, y-1], [x-1, y], [x, y], [x+1, y], [x-1, y+1], [x, y+1], [x+1, y+1]]\n",
    "    if image[x, y-1]==2 or image[x-1, y]==2 or image[x+1, y]==2 or image[x, y+1]==2:\n",
    "        return pedestrian\n",
    "    else:\n",
    "        image[x, y] = 0\n",
    "        dist = get_dist(locality, target, image)\n",
    "        [x, y] = locality[get_min_idx(dist)]\n",
    "        set_p(10, x, y, image)\n",
    "        return [x, y]\n",
    "    "
   ]
  },
  {
   "cell_type": "code",
   "execution_count": 10,
   "metadata": {},
   "outputs": [],
   "source": [
    "def next_locality_dijk(pedestrian, target, image, utility):\n",
    "    x = pedestrian[0]\n",
    "    y = pedestrian[1]\n",
    "    locality = [[x-1, y-1], [x, y-1], [x+1, y-1], [x-1, y], [x, y], [x+1, y], [x-1, y+1], [x, y+1], [x+1, y+1]]\n",
    "    if image[x, y-1]==2 or image[x-1, y]==2 or image[x+1, y]==2 or image[x, y+1]==2:\n",
    "        return pedestrian\n",
    "    else:\n",
    "        image[x, y] = 0\n",
    "        dist = [utility[x-1, y-1],\n",
    "                utility[x, y-1],\n",
    "                utility[x+1, y-1],\n",
    "                utility[x-1, y],\n",
    "                utility[x, y],\n",
    "                utility[x+1, y],\n",
    "                utility[x-1, y+1],\n",
    "                utility[x, y+1],\n",
    "                utility[x+1, y+1]]\n",
    "        [x, y] = locality[get_min_idx(dist)]\n",
    "        set_p(10, x, y, image)\n",
    "        return [x, y]"
   ]
  },
  {
   "cell_type": "code",
   "execution_count": 11,
   "metadata": {},
   "outputs": [],
   "source": [
    "def cost_func(dist, rmax):\n",
    "    if dist < rmax:\n",
    "        return math.exp(1/(dist**2 - rmax**2))\n",
    "    else:\n",
    "        return 0\n",
    "    "
   ]
  },
  {
   "cell_type": "code",
   "execution_count": 12,
   "metadata": {},
   "outputs": [],
   "source": [
    "def utility_func(target, image):\n",
    "    im = image.copy()\n",
    "    for i in range(len(im)):\n",
    "        for j in range(len(im[0])):\n",
    "            if image[i][j] == 0:\n",
    "                im[i][j] = dist([i, j], target)/dist([0, 0], [len(image), len(image)])\n",
    "            else:\n",
    "                im[i][j] = 1\n",
    "    return im"
   ]
  },
  {
   "cell_type": "code",
   "execution_count": 13,
   "metadata": {
    "scrolled": false
   },
   "outputs": [
    {
     "name": "stdout",
     "output_type": "stream",
     "text": [
      "[6, 25]\n",
      "[7, 25]\n",
      "[8, 24]\n",
      "[9, 25]\n",
      "[10, 25]\n",
      "[11, 25]\n",
      "[12, 25]\n",
      "[13, 25]\n",
      "[14, 25]\n",
      "[15, 25]\n",
      "[16, 25]\n",
      "[17, 25]\n",
      "[18, 25]\n",
      "[19, 25]\n",
      "[20, 25]\n",
      "[21, 25]\n",
      "[22, 25]\n",
      "[23, 25]\n",
      "[24, 25]\n",
      "[24, 25]\n",
      "[24, 25]\n",
      "[24, 25]\n",
      "[24, 25]\n",
      "[24, 25]\n",
      "[24, 25]\n"
     ]
    }
   ],
   "source": [
    "# main\n",
    "size = 50\n",
    "timesteps = 25\n",
    "seed = np.zeros((size, size))\n",
    "draw_grid(10, -250, -250)\n",
    "ped = set_p(10, 5, 25, seed)\n",
    "target = set_t(10, 25, 25, seed)\n",
    "set_o(10, 8, 25, seed)\n",
    "im = utility_func(target, seed)\n",
    "for t in range(timesteps):\n",
    "    ped = next_locality_dijk(ped, target, seed, im)\n",
    "    print(ped)\n",
    "turtle.done()"
   ]
  },
  {
   "cell_type": "code",
   "execution_count": 14,
   "metadata": {},
   "outputs": [],
   "source": [
    "# test\n",
    "size = 5\n",
    "timesteps = 25\n",
    "seed = np.zeros((size, size))\n",
    "seed[1,1] = 1\n",
    "seed[0,4] = 2\n",
    "seed[2,2] = 3\n",
    "target = [0, 4]\n",
    "im = utility_func(target, seed)\n",
    "#L = [[x-1, y-1], [x, y-1], [x+1, y-1], [x-1, y], [x, y], [x+1, y], [x-1, y+1], [x, y+1], [x+1, y+1]]\n",
    "\n",
    "#get_min_idx(get_dist(L, target, seed))\n",
    "\n",
    "#next_locality([x, y], target, seed)\n",
    "\n",
    "\n",
    "\n",
    "\n",
    "    "
   ]
  },
  {
   "cell_type": "code",
   "execution_count": null,
   "metadata": {},
   "outputs": [],
   "source": []
  }
 ],
 "metadata": {
  "kernelspec": {
   "display_name": "Python 3",
   "language": "python",
   "name": "python3"
  },
  "language_info": {
   "codemirror_mode": {
    "name": "ipython",
    "version": 3
   },
   "file_extension": ".py",
   "mimetype": "text/x-python",
   "name": "python",
   "nbconvert_exporter": "python",
   "pygments_lexer": "ipython3",
   "version": "3.7.4"
  }
 },
 "nbformat": 4,
 "nbformat_minor": 2
}
